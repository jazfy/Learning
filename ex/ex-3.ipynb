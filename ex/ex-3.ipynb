{
 "cells": [
  {
   "cell_type": "code",
   "execution_count": 1,
   "metadata": {},
   "outputs": [
    {
     "name": "stderr",
     "output_type": "stream",
     "text": [
      "/Library/Frameworks/Python.framework/Versions/3.6/lib/python3.6/site-packages/h5py/__init__.py:36: FutureWarning: Conversion of the second argument of issubdtype from `float` to `np.floating` is deprecated. In future, it will be treated as `np.float64 == np.dtype(float).type`.\n",
      "  from ._conv import register_converters as _register_converters\n"
     ]
    }
   ],
   "source": [
    "import tensorflow as tf"
   ]
  },
  {
   "cell_type": "markdown",
   "metadata": {},
   "source": [
    "## 矢量加法"
   ]
  },
  {
   "cell_type": "code",
   "execution_count": 5,
   "metadata": {},
   "outputs": [
    {
     "name": "stdout",
     "output_type": "stream",
     "text": [
      "[ 3  4  6  8 12 14]\n"
     ]
    }
   ],
   "source": [
    "with tf.Graph().as_default():\n",
    "    #创建包含六个元素的一位维张量\n",
    "    primes = tf.constant([2,3,5,7,11,13],dtype=tf.int32)\n",
    "    #创建初始化为1的张量\n",
    "    ones = tf.ones([6],dtype=tf.int32)\n",
    "    #+\n",
    "    just_bryond_primes = tf.add(primes,ones)\n",
    "    \n",
    "    #会话\n",
    "    with tf.Session() as sess:\n",
    "        print(just_bryond_primes.eval())"
   ]
  },
  {
   "cell_type": "markdown",
   "metadata": {},
   "source": [
    "### 张量形状"
   ]
  },
  {
   "cell_type": "code",
   "execution_count": 6,
   "metadata": {},
   "outputs": [
    {
     "name": "stdout",
     "output_type": "stream",
     "text": [
      "scalar has shape () and value:\n",
      " 0.0\n",
      "vector has shape (3,) and value:\n",
      " [0. 0. 0.]\n",
      "matrix has shape (2, 3) and value:\n",
      " [[0. 0. 0.]\n",
      " [0. 0. 0.]]\n"
     ]
    }
   ],
   "source": [
    "with tf.Graph().as_default():\n",
    "    #0维 scalar 标量\n",
    "    scalar = tf.zeros([])\n",
    "    #1维,vector 矢量\n",
    "    vector = tf.zeros([3])\n",
    "    #2x3矩阵\n",
    "    matrix = tf.zeros([2,3])\n",
    "    \n",
    "    with tf.Session() as sess:\n",
    "        print('scalar has shape',scalar.get_shape(),'and value:\\n',scalar.eval())\n",
    "        print('vector has shape',vector.get_shape(),'and value:\\n',vector.eval())\n",
    "        print('matrix has shape',matrix.get_shape(),'and value:\\n',matrix.eval())"
   ]
  },
  {
   "cell_type": "markdown",
   "metadata": {},
   "source": [
    "### 广播加法"
   ]
  },
  {
   "cell_type": "code",
   "execution_count": 7,
   "metadata": {},
   "outputs": [
    {
     "name": "stdout",
     "output_type": "stream",
     "text": [
      "[ 3  4  6  8 12 14]\n"
     ]
    }
   ],
   "source": [
    "with tf.Graph().as_default():\n",
    "    #包含六个元素的一维张量,vector\n",
    "    primes = tf.constant([2,3,5,7,11,13],dtype=tf.int32)\n",
    "    #标量\n",
    "    ones = tf.constant(1,dtype=tf.int32)\n",
    "    \n",
    "    #加法\n",
    "    just_bryond_primes = tf.add(primes,ones)\n",
    "    \n",
    "    with tf.Session() as sess:\n",
    "        print(just_bryond_primes.eval())"
   ]
  },
  {
   "cell_type": "markdown",
   "metadata": {},
   "source": [
    "## 矩阵乘法"
   ]
  },
  {
   "cell_type": "code",
   "execution_count": 8,
   "metadata": {},
   "outputs": [
    {
     "name": "stdout",
     "output_type": "stream",
     "text": [
      "[[35 58]\n",
      " [35 33]\n",
      " [ 2  2]]\n"
     ]
    }
   ],
   "source": [
    "with tf.Graph().as_default():\n",
    "    #3x4矩阵\n",
    "    x = tf.constant([[5,2,4,3],\n",
    "                    [5,1,6,-2],\n",
    "                    [-1,3,-1,-1]],dtype=tf.int32)\n",
    "    #4x2矩阵\n",
    "    y = tf.constant([[2,2],\n",
    "                    [3,5],[4,5],[1,6]],dtype=tf.int32)\n",
    "    #*\n",
    "    matrix_multiply_result = tf.matmul(x,y)\n",
    "    \n",
    "    with tf.Session() as sess:\n",
    "        print(matrix_multiply_result.eval())"
   ]
  },
  {
   "cell_type": "markdown",
   "metadata": {},
   "source": [
    "## 张量变形"
   ]
  },
  {
   "cell_type": "code",
   "execution_count": 9,
   "metadata": {},
   "outputs": [
    {
     "name": "stdout",
     "output_type": "stream",
     "text": [
      "Original matrix (8x2):\n",
      "[[ 1  2]\n",
      " [ 3  4]\n",
      " [ 5  6]\n",
      " [ 7  8]\n",
      " [ 9 10]\n",
      " [11 12]\n",
      " [13 14]\n",
      " [15 16]]\n",
      "Reshaped matrix (2x8)\n",
      "[[ 1  2  3  4  5  6  7  8]\n",
      " [ 9 10 11 12 13 14 15 16]]\n",
      "reshaped_4x4_matrix:\n",
      "[[ 1  2  3  4]\n",
      " [ 5  6  7  8]\n",
      " [ 9 10 11 12]\n",
      " [13 14 15 16]]\n"
     ]
    }
   ],
   "source": [
    "with tf.Graph().as_default():\n",
    "    #8x2矩阵\n",
    "    matrix = tf.constant([[1,2],\n",
    "                         [3,4],[5,6],[7,8],[9,10],[11,12],[13,14],[15,16]],dtype=tf.int32)\n",
    "    #将8x2矩阵变为2x8矩阵\n",
    "    reshaped_2x8_matrix = tf.reshape(matrix,[2,8])\n",
    "    #将8x2矩阵变为4x4矩阵\n",
    "    reshaped_4x4_matrix = tf.reshape(matrix,[4,4])\n",
    "    \n",
    "    with tf.Session() as sess:\n",
    "        print('Original matrix (8x2):')\n",
    "        print(matrix.eval())\n",
    "        print('Reshaped matrix (2x8)')\n",
    "        print(reshaped_2x8_matrix.eval())\n",
    "        print('reshaped_4x4_matrix:')\n",
    "        print(reshaped_4x4_matrix.eval())"
   ]
  },
  {
   "cell_type": "markdown",
   "metadata": {},
   "source": [
    "### 改变维数"
   ]
  },
  {
   "cell_type": "code",
   "execution_count": 11,
   "metadata": {},
   "outputs": [
    {
     "name": "stdout",
     "output_type": "stream",
     "text": [
      "Original matrix (8x2)\n",
      "[[ 1  2]\n",
      " [ 3  4]\n",
      " [ 5  6]\n",
      " [ 7  8]\n",
      " [ 9 10]\n",
      " [11 12]\n",
      " [13 14]\n",
      " [15 16]]\n",
      "Reshaped 3-D tensor (2x2x4):\n",
      "[[[ 1  2  3  4]\n",
      "  [ 5  6  7  8]]\n",
      "\n",
      " [[ 9 10 11 12]\n",
      "  [13 14 15 16]]]\n",
      "1-D vector\n",
      "[ 1  2  3  4  5  6  7  8  9 10 11 12 13 14 15 16]\n"
     ]
    }
   ],
   "source": [
    "with tf.Graph().as_default():\n",
    "    #8x2矩阵\n",
    "    matrix = tf.constant([[1,2],\n",
    "                         [3,4],[5,6],[7,8],[9,10],[11,12],[13,14],[15,16]],dtype=tf.int32)\n",
    "    #将8x2 矩阵变为 2x2x4矩阵\n",
    "    reshaped_2x2x4_tensor = tf.reshape(matrix,[2,2,4])\n",
    "    #将8x2 矩阵变为 包含十六个元素的一维张量,即标量\n",
    "    one_dimensional_vector = tf.reshape(matrix,[16])\n",
    "    \n",
    "    with tf.Session() as sess:\n",
    "        print('Original matrix (8x2)')\n",
    "        print(matrix.eval())\n",
    "        print('Reshaped 3-D tensor (2x2x4):')\n",
    "        print(reshaped_2x2x4_tensor.eval())\n",
    "        print('1-D vector')\n",
    "        print(one_dimensional_vector.eval())"
   ]
  },
  {
   "cell_type": "markdown",
   "metadata": {},
   "source": [
    "### ex"
   ]
  },
  {
   "cell_type": "code",
   "execution_count": 13,
   "metadata": {},
   "outputs": [
    {
     "name": "stdout",
     "output_type": "stream",
     "text": [
      "[[44]\n",
      " [46]]\n"
     ]
    }
   ],
   "source": [
    "with tf.Session().as_default():\n",
    "    a = tf.constant([5, 3, 2, 7, 1, 4])\n",
    "    b = tf.constant([4, 6, 3])\n",
    "    \n",
    "    reshaped_a = tf.reshape(a,[2,3])\n",
    "    reshaped_b = tf.reshape(b,[3,1])\n",
    "    mat = tf.matmul(reshaped_a,reshaped_b)\n",
    "    with tf.Session() as sess:\n",
    "        print(mat.eval())"
   ]
  },
  {
   "cell_type": "markdown",
   "metadata": {},
   "source": [
    "## 变量/初始化和赋值"
   ]
  },
  {
   "cell_type": "markdown",
   "metadata": {},
   "source": [
    "### 变量"
   ]
  },
  {
   "cell_type": "code",
   "execution_count": 20,
   "metadata": {},
   "outputs": [],
   "source": [
    "g = tf.Graph()\n",
    "with g.as_default():\n",
    "    #创建初始值为3的变量\n",
    "    v = tf.Variable([3])\n",
    "    #创建形状为[1],随机值为初始值得变量\n",
    "    w = tf.Variable(tf.random_normal([1],mean=1.0,stddev=0.35))"
   ]
  },
  {
   "cell_type": "markdown",
   "metadata": {},
   "source": [
    "### 初始化"
   ]
  },
  {
   "cell_type": "code",
   "execution_count": 21,
   "metadata": {},
   "outputs": [
    {
     "name": "stdout",
     "output_type": "stream",
     "text": [
      "[3]\n",
      "[1.2016622]\n"
     ]
    }
   ],
   "source": [
    "with g.as_default():\n",
    "    with tf.Session() as sess:\n",
    "        initialzation = tf.global_variables_initializer() #初始化\n",
    "        sess.run(initialzation)\n",
    "        #分配值\n",
    "        print(v.eval())\n",
    "        print(w.eval())"
   ]
  },
  {
   "cell_type": "raw",
   "metadata": {},
   "source": [
    "必须注意,默认图必须与指定的一致"
   ]
  },
  {
   "cell_type": "markdown",
   "metadata": {},
   "source": [
    "### 改变变量的值"
   ]
  },
  {
   "cell_type": "code",
   "execution_count": 23,
   "metadata": {},
   "outputs": [
    {
     "name": "stdout",
     "output_type": "stream",
     "text": [
      "[3]\n",
      "[3]\n",
      "[7]\n"
     ]
    }
   ],
   "source": [
    "with g.as_default():\n",
    "    with tf.Session() as sess:\n",
    "        sess.run(tf.global_variables_initializer()) #每次会话都必须初始化变量\n",
    "        print(v.eval()) #输出变量初始值\n",
    "        \n",
    "        #分配新值\n",
    "        assignment = tf.assign(v,[7])\n",
    "        print(v.eval()) #输出改变值\n",
    "        \n",
    "        sess.run(assignment) #执行分配新值操作\n",
    "        print(v.eval()) #更新"
   ]
  },
  {
   "cell_type": "raw",
   "metadata": {},
   "source": [
    "注意,只有明确执行改变变量值操作后指令才生效"
   ]
  },
  {
   "cell_type": "markdown",
   "metadata": {},
   "source": [
    "### ex"
   ]
  },
  {
   "cell_type": "code",
   "execution_count": 26,
   "metadata": {},
   "outputs": [
    {
     "name": "stdout",
     "output_type": "stream",
     "text": [
      "[[ 1  6  7]\n",
      " [ 6  6 12]\n",
      " [ 2  1  3]\n",
      " [ 1  6  7]\n",
      " [ 6  4 10]\n",
      " [ 5  4  9]\n",
      " [ 2  1  3]\n",
      " [ 5  1  6]\n",
      " [ 6  1  7]\n",
      " [ 5  2  7]]\n"
     ]
    }
   ],
   "source": [
    "with tf.Graph().as_default(),tf.Session() as sess:\n",
    "    dice1 = tf.Variable(tf.random_uniform([10,1],minval=1,maxval=7,dtype=tf.int32)) #10x1矩阵,指定最大和最小值,指定类型为整型\n",
    "    dice2 = tf.Variable(tf.random_uniform([10,1],minval=1,maxval=7,dtype=tf.int32))\n",
    "    sum_dice = tf.add(dice1,dice2)\n",
    "    result_matrix = tf.concat(values=[dice1,dice2,sum_dice],axis=1) #指定在列维度上合并\n",
    "    sess.run(tf.global_variables_initializer())\n",
    "    print(result_matrix.eval())"
   ]
  },
  {
   "cell_type": "code",
   "execution_count": null,
   "metadata": {},
   "outputs": [],
   "source": []
  }
 ],
 "metadata": {
  "kernelspec": {
   "display_name": "Python 3",
   "language": "python",
   "name": "python3"
  },
  "language_info": {
   "codemirror_mode": {
    "name": "ipython",
    "version": 3
   },
   "file_extension": ".py",
   "mimetype": "text/x-python",
   "name": "python",
   "nbconvert_exporter": "python",
   "pygments_lexer": "ipython3",
   "version": "3.6.4"
  },
  "latex_envs": {
   "LaTeX_envs_menu_present": true,
   "autoclose": false,
   "autocomplete": true,
   "bibliofile": "biblio.bib",
   "cite_by": "apalike",
   "current_citInitial": 1,
   "eqLabelWithNumbers": true,
   "eqNumInitial": 1,
   "hotkeys": {
    "equation": "Ctrl-E",
    "itemize": "Ctrl-I"
   },
   "labels_anchors": false,
   "latex_user_defs": false,
   "report_style_numbering": false,
   "user_envs_cfg": false
  },
  "toc": {
   "nav_menu": {},
   "number_sections": true,
   "sideBar": true,
   "skip_h1_title": false,
   "title_cell": "Table of Contents",
   "title_sidebar": "Contents",
   "toc_cell": false,
   "toc_position": {},
   "toc_section_display": true,
   "toc_window_display": false
  }
 },
 "nbformat": 4,
 "nbformat_minor": 2
}
