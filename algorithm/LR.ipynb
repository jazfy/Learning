{
 "cells": [
  {
   "cell_type": "code",
   "execution_count": 1,
   "metadata": {},
   "outputs": [
    {
     "name": "stderr",
     "output_type": "stream",
     "text": [
      "/Library/Frameworks/Python.framework/Versions/3.6/lib/python3.6/site-packages/h5py/__init__.py:36: FutureWarning: Conversion of the second argument of issubdtype from `float` to `np.floating` is deprecated. In future, it will be treated as `np.float64 == np.dtype(float).type`.\n",
      "  from ._conv import register_converters as _register_converters\n"
     ]
    }
   ],
   "source": [
    "import tensorflow as tf\n",
    "import numpy\n",
    "import numpy.random as rng\n",
    "import matplotlib.pyplot as plt"
   ]
  },
  {
   "cell_type": "markdown",
   "metadata": {},
   "source": [
    "## parameters"
   ]
  },
  {
   "cell_type": "code",
   "execution_count": 2,
   "metadata": {},
   "outputs": [],
   "source": [
    "learning_rate = 0.01\n",
    "training_epochs = 1000\n",
    "display_step = 50"
   ]
  },
  {
   "cell_type": "markdown",
   "metadata": {},
   "source": [
    "## training data"
   ]
  },
  {
   "cell_type": "code",
   "execution_count": 3,
   "metadata": {},
   "outputs": [],
   "source": [
    "\n",
    "train_X = numpy.asarray([3.3,4.4,5.5,6.71,6.93,4.168,9.779,6.182,7.59,2.167,\n",
    "                         7.042,10.791,5.313,7.997,5.654,9.27,3.1])\n",
    "train_Y = numpy.asarray([1.7,2.76,2.09,3.19,1.694,1.573,3.366,2.596,2.53,1.221,\n",
    "                         2.827,3.465,1.65,2.904,2.42,2.94,1.3])\n",
    "n_samples = train_X.shape[0]"
   ]
  },
  {
   "cell_type": "markdown",
   "metadata": {},
   "source": [
    "## input"
   ]
  },
  {
   "cell_type": "code",
   "execution_count": 4,
   "metadata": {},
   "outputs": [],
   "source": [
    "X = tf.placeholder('float')\n",
    "Y = tf.placeholder('float')\n",
    "W = tf.Variable(rng.randn(),name='weight')\n",
    "b = tf.Variable(rng.randn(),name='bias')"
   ]
  },
  {
   "cell_type": "markdown",
   "metadata": {},
   "source": [
    "## Model"
   ]
  },
  {
   "cell_type": "code",
   "execution_count": 5,
   "metadata": {},
   "outputs": [],
   "source": [
    "pred = tf.add(tf.multiply(X,W),b)"
   ]
  },
  {
   "cell_type": "markdown",
   "metadata": {},
   "source": [
    "###  MSE"
   ]
  },
  {
   "cell_type": "code",
   "execution_count": 8,
   "metadata": {},
   "outputs": [],
   "source": [
    "cost = tf.reduce_sum(tf.pow(pred - Y, 2))/(2*n_samples)\n",
    "optimizer = tf.train.GradientDescentOptimizer(learning_rate).minimize(cost)"
   ]
  },
  {
   "cell_type": "markdown",
   "metadata": {},
   "source": [
    "### Initialize the Variables"
   ]
  },
  {
   "cell_type": "code",
   "execution_count": 9,
   "metadata": {},
   "outputs": [],
   "source": [
    "init = tf.global_variables_initializer()"
   ]
  },
  {
   "cell_type": "markdown",
   "metadata": {},
   "source": [
    "## Start training"
   ]
  },
  {
   "cell_type": "code",
   "execution_count": 10,
   "metadata": {},
   "outputs": [
    {
     "name": "stdout",
     "output_type": "stream",
     "text": [
      "Epoch: 0050 cost= 0.320173681 W= 0.5252217 b= -1.1813823\n",
      "Epoch: 0100 cost= 0.292084932 W= 0.50882906 b= -1.0634551\n",
      "Epoch: 0150 cost= 0.267238736 W= 0.49341112 b= -0.95253915\n",
      "Epoch: 0200 cost= 0.245261356 W= 0.47891003 b= -0.84821975\n",
      "Epoch: 0250 cost= 0.225821719 W= 0.4652715 b= -0.750105\n",
      "Epoch: 0300 cost= 0.208626941 W= 0.4524442 b= -0.65782636\n",
      "Epoch: 0350 cost= 0.193417534 W= 0.44037974 b= -0.5710352\n",
      "Epoch: 0400 cost= 0.179964617 W= 0.4290327 b= -0.4894064\n",
      "Epoch: 0450 cost= 0.168065235 W= 0.41836068 b= -0.41263232\n",
      "Epoch: 0500 cost= 0.157540023 W= 0.4083233 b= -0.34042403\n",
      "Epoch: 0550 cost= 0.148230404 W= 0.39888293 b= -0.27251035\n",
      "Epoch: 0600 cost= 0.139996022 W= 0.39000395 b= -0.20863579\n",
      "Epoch: 0650 cost= 0.132712722 W= 0.3816531 b= -0.1485603\n",
      "Epoch: 0700 cost= 0.126270697 W= 0.373799 b= -0.09205783\n",
      "Epoch: 0750 cost= 0.120572850 W= 0.36641183 b= -0.03891571\n",
      "Epoch: 0800 cost= 0.115533188 W= 0.35946405 b= 0.011065847\n",
      "Epoch: 0850 cost= 0.111075744 W= 0.35292956 b= 0.058074757\n",
      "Epoch: 0900 cost= 0.107133299 W= 0.34678367 b= 0.10228779\n",
      "Epoch: 0950 cost= 0.103646360 W= 0.3410033 b= 0.14387123\n",
      "Epoch: 1000 cost= 0.100562327 W= 0.33556667 b= 0.18298171\n",
      "Optimization Finished!\n",
      "Training cost= 0.10056233 W= 0.33556667 b= 0.18298171 \n",
      "\n"
     ]
    },
    {
     "data": {
      "image/png": "[encoded data removed]",
      "text/plain": [
       "<Figure size 432x288 with 1 Axes>"
      ]
     },
     "metadata": {},
     "output_type": "display_data"
    }
   ],
   "source": [
    "with tf.Session() as sess:\n",
    "    sess.run(init)\n",
    "    \n",
    "    #Fit training data\n",
    "    for epoch in range(training_epochs):\n",
    "        for x,y in zip(train_X,train_Y):\n",
    "            sess.run(optimizer,feed_dict={X:x,Y:y})\n",
    "        #Display logs per epoch step\n",
    "        if (epoch+1) % display_step == 0:\n",
    "            c = sess.run(cost,feed_dict={X:train_X,Y:train_Y})\n",
    "            print('Epoch:','%04d'%(epoch+1),'cost=','{:.9f}'.format(c),'W=',sess.run(W),'b=',sess.run(b))\n",
    "    print('Optimization Finished!')\n",
    "    training_cost = sess.run(cost,feed_dict={X:train_X,Y:train_Y})\n",
    "    print('Training cost=',training_cost,'W=',sess.run(W),'b=',sess.run(b),'\\n')\n",
    "    \n",
    "    #Graphic display\n",
    "    plt.plot(train_X,train_Y,'ro',label='Original data')\n",
    "    plt.plot(train_X,sess.run(W) * train_X + sess.run(b),label='Fitted line')\n",
    "    plt.show()"
   ]
  },
  {
   "cell_type": "code",
   "execution_count": null,
   "metadata": {},
   "outputs": [],
   "source": []
  }
 ],
 "metadata": {
  "kernelspec": {
   "display_name": "Python 3",
   "language": "python",
   "name": "python3"
  },
  "language_info": {
   "codemirror_mode": {
    "name": "ipython",
    "version": 3
   },
   "file_extension": ".py",
   "mimetype": "text/x-python",
   "name": "python",
   "nbconvert_exporter": "python",
   "pygments_lexer": "ipython3",
   "version": "3.6.4"
  },
  "latex_envs": {
   "LaTeX_envs_menu_present": true,
   "autoclose": false,
   "autocomplete": true,
   "bibliofile": "biblio.bib",
   "cite_by": "apalike",
   "current_citInitial": 1,
   "eqLabelWithNumbers": true,
   "eqNumInitial": 1,
   "hotkeys": {
    "equation": "Ctrl-E",
    "itemize": "Ctrl-I"
   },
   "labels_anchors": false,
   "latex_user_defs": false,
   "report_style_numbering": false,
   "user_envs_cfg": false
  },
  "toc": {
   "nav_menu": {},
   "number_sections": true,
   "sideBar": true,
   "skip_h1_title": false,
   "title_cell": "Table of Contents",
   "title_sidebar": "Contents",
   "toc_cell": false,
   "toc_position": {},
   "toc_section_display": true,
   "toc_window_display": false
  }
 },
 "nbformat": 4,
 "nbformat_minor": 2
}
